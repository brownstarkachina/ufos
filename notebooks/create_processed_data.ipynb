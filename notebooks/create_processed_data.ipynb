{
 "cells": [
  {
   "attachments": {},
   "cell_type": "markdown",
   "metadata": {},
   "source": [
    "# Create the processed dataset\n",
    "\n",
    "**_Objective:_** Create the dataset to be used to build the Tableau Public dashboard.\n",
    "\n",
    "Initially I was going to build out a more indepth dashbboard, but I decided to keep it simple so I am pretty much going to drop everything not needed for a map and a few other plots. "
   ]
  },
  {
   "attachments": {},
   "cell_type": "markdown",
   "metadata": {},
   "source": [
    "## Required libraries"
   ]
  },
  {
   "cell_type": "code",
   "execution_count": 1,
   "metadata": {},
   "outputs": [],
   "source": [
    "from datetime import datetime\n",
    "import os\n",
    "import pandas as pd"
   ]
  },
  {
   "attachments": {},
   "cell_type": "markdown",
   "metadata": {},
   "source": [
    "## Bring the data in"
   ]
  },
  {
   "cell_type": "code",
   "execution_count": 2,
   "metadata": {},
   "outputs": [],
   "source": [
    "os.chdir(\"../data/interim/\")"
   ]
  },
  {
   "cell_type": "code",
   "execution_count": 3,
   "metadata": {},
   "outputs": [],
   "source": [
    "dat = pd.read_csv(\"interim_with_county_info_ufo_20230425_0727.csv\")"
   ]
  },
  {
   "cell_type": "code",
   "execution_count": 4,
   "metadata": {},
   "outputs": [],
   "source": [
    "# Remove observations not having a county recorded\n",
    "dat = dat[dat[\"county\"].notna()]"
   ]
  },
  {
   "cell_type": "code",
   "execution_count": 5,
   "metadata": {},
   "outputs": [
    {
     "name": "stdout",
     "output_type": "stream",
     "text": [
      "<class 'pandas.core.frame.DataFrame'>\n",
      "Int64Index: 99669 entries, 0 to 103097\n",
      "Data columns (total 12 columns):\n",
      " #   Column                        Non-Null Count  Dtype  \n",
      "---  ------                        --------------  -----  \n",
      " 0   state                         99669 non-null  object \n",
      " 1   date_time                     99669 non-null  object \n",
      " 2   shape                         99669 non-null  object \n",
      " 3   text                          99669 non-null  object \n",
      " 4   city_latitude                 99669 non-null  float64\n",
      " 5   city_longitude                99669 non-null  float64\n",
      " 6   date                          99669 non-null  object \n",
      " 7   day_of_week                   99669 non-null  object \n",
      " 8   weekend_flag                  99669 non-null  object \n",
      " 9   zodiac_sign_of_sighting_date  99669 non-null  object \n",
      " 10  state.1                       99669 non-null  object \n",
      " 11  county                        99669 non-null  object \n",
      "dtypes: float64(2), object(10)\n",
      "memory usage: 9.9+ MB\n"
     ]
    }
   ],
   "source": [
    "dat.info()"
   ]
  },
  {
   "attachments": {},
   "cell_type": "markdown",
   "metadata": {},
   "source": [
    "## Drop fields no longer needed"
   ]
  },
  {
   "cell_type": "code",
   "execution_count": 6,
   "metadata": {},
   "outputs": [],
   "source": [
    "dat = dat.drop([\"date_time\",\n",
    "                \"shape\",\n",
    "                \"text\",\n",
    "                \"city_latitude\",\n",
    "                \"city_longitude\",\n",
    "                \"day_of_week\",\n",
    "                \"weekend_flag\", \n",
    "                \"state\"], axis=1)"
   ]
  },
  {
   "cell_type": "code",
   "execution_count": 7,
   "metadata": {},
   "outputs": [],
   "source": [
    "dat = dat.applymap(lambda s: s.title() if type(s) == str else s)"
   ]
  },
  {
   "cell_type": "code",
   "execution_count": 8,
   "metadata": {},
   "outputs": [
    {
     "data": {
      "text/html": [
       "<div>\n",
       "<style scoped>\n",
       "    .dataframe tbody tr th:only-of-type {\n",
       "        vertical-align: middle;\n",
       "    }\n",
       "\n",
       "    .dataframe tbody tr th {\n",
       "        vertical-align: top;\n",
       "    }\n",
       "\n",
       "    .dataframe thead th {\n",
       "        text-align: right;\n",
       "    }\n",
       "</style>\n",
       "<table border=\"1\" class=\"dataframe\">\n",
       "  <thead>\n",
       "    <tr style=\"text-align: right;\">\n",
       "      <th></th>\n",
       "      <th>date</th>\n",
       "      <th>zodiac_sign_of_sighting_date</th>\n",
       "      <th>state</th>\n",
       "      <th>county</th>\n",
       "    </tr>\n",
       "  </thead>\n",
       "  <tbody>\n",
       "    <tr>\n",
       "      <th>0</th>\n",
       "      <td>2019-06-23</td>\n",
       "      <td>Cancer</td>\n",
       "      <td>Washington</td>\n",
       "      <td>Snohomish</td>\n",
       "    </tr>\n",
       "    <tr>\n",
       "      <th>1</th>\n",
       "      <td>2019-06-23</td>\n",
       "      <td>Cancer</td>\n",
       "      <td>Connecticut</td>\n",
       "      <td>New Haven</td>\n",
       "    </tr>\n",
       "    <tr>\n",
       "      <th>2</th>\n",
       "      <td>2019-06-20</td>\n",
       "      <td>Gemini</td>\n",
       "      <td>Virginia</td>\n",
       "      <td>Albemarle</td>\n",
       "    </tr>\n",
       "    <tr>\n",
       "      <th>3</th>\n",
       "      <td>2019-06-21</td>\n",
       "      <td>Cancer</td>\n",
       "      <td>Michigan</td>\n",
       "      <td>Wayne</td>\n",
       "    </tr>\n",
       "    <tr>\n",
       "      <th>4</th>\n",
       "      <td>2019-07-06</td>\n",
       "      <td>Cancer</td>\n",
       "      <td>California</td>\n",
       "      <td>Riverside</td>\n",
       "    </tr>\n",
       "    <tr>\n",
       "      <th>...</th>\n",
       "      <td>...</td>\n",
       "      <td>...</td>\n",
       "      <td>...</td>\n",
       "      <td>...</td>\n",
       "    </tr>\n",
       "    <tr>\n",
       "      <th>103093</th>\n",
       "      <td>2021-12-15</td>\n",
       "      <td>Sagittarius</td>\n",
       "      <td>New York</td>\n",
       "      <td>Onondaga</td>\n",
       "    </tr>\n",
       "    <tr>\n",
       "      <th>103094</th>\n",
       "      <td>2021-12-19</td>\n",
       "      <td>Sagittarius</td>\n",
       "      <td>Connecticut</td>\n",
       "      <td>New Haven</td>\n",
       "    </tr>\n",
       "    <tr>\n",
       "      <th>103095</th>\n",
       "      <td>2022-03-09</td>\n",
       "      <td>Pisces</td>\n",
       "      <td>Missouri</td>\n",
       "      <td>St Louis City</td>\n",
       "    </tr>\n",
       "    <tr>\n",
       "      <th>103096</th>\n",
       "      <td>1995-07-21</td>\n",
       "      <td>Cancer</td>\n",
       "      <td>Washington</td>\n",
       "      <td>Spokane</td>\n",
       "    </tr>\n",
       "    <tr>\n",
       "      <th>103097</th>\n",
       "      <td>2019-12-24</td>\n",
       "      <td>Capricorn</td>\n",
       "      <td>Virginia</td>\n",
       "      <td>Spotsylvania</td>\n",
       "    </tr>\n",
       "  </tbody>\n",
       "</table>\n",
       "<p>99669 rows × 4 columns</p>\n",
       "</div>"
      ],
      "text/plain": [
       "              date zodiac_sign_of_sighting_date        state         county\n",
       "0       2019-06-23                       Cancer   Washington      Snohomish\n",
       "1       2019-06-23                       Cancer  Connecticut      New Haven\n",
       "2       2019-06-20                       Gemini     Virginia      Albemarle\n",
       "3       2019-06-21                       Cancer     Michigan          Wayne\n",
       "4       2019-07-06                       Cancer   California      Riverside\n",
       "...            ...                          ...          ...            ...\n",
       "103093  2021-12-15                  Sagittarius     New York       Onondaga\n",
       "103094  2021-12-19                  Sagittarius  Connecticut      New Haven\n",
       "103095  2022-03-09                       Pisces     Missouri  St Louis City\n",
       "103096  1995-07-21                       Cancer   Washington        Spokane\n",
       "103097  2019-12-24                    Capricorn     Virginia   Spotsylvania\n",
       "\n",
       "[99669 rows x 4 columns]"
      ]
     },
     "execution_count": 8,
     "metadata": {},
     "output_type": "execute_result"
    }
   ],
   "source": [
    "dat.rename(columns={\"state.1\": \"state\"})"
   ]
  },
  {
   "attachments": {},
   "cell_type": "markdown",
   "metadata": {},
   "source": [
    "## Write the data frame to file"
   ]
  },
  {
   "cell_type": "code",
   "execution_count": 9,
   "metadata": {},
   "outputs": [],
   "source": [
    "os.chdir(\"../processed/\")"
   ]
  },
  {
   "cell_type": "code",
   "execution_count": 10,
   "metadata": {},
   "outputs": [],
   "source": [
    "file_name_root = \"processed_ufo_data_\"\n",
    "date_time_str = datetime.today().strftime(\"%Y-%m-%d %H:%M\")\n",
    "date_str = date_time_str.split()[0].replace(\"-\", \"\") + \"_\"\n",
    "time_str = date_time_str.split()[1].replace(\":\", \"\")\n",
    "file_ext = '.csv'\n",
    "del date_time_str\n",
    "file_name = file_name_root + date_str + time_str + file_ext\n",
    "del file_name_root\n",
    "del date_str\n",
    "del time_str\n",
    "del file_ext"
   ]
  },
  {
   "cell_type": "code",
   "execution_count": 11,
   "metadata": {},
   "outputs": [
    {
     "name": "stdout",
     "output_type": "stream",
     "text": [
      "processed_ufo_data_20230429_2012.csv\n"
     ]
    }
   ],
   "source": [
    "print(file_name)"
   ]
  },
  {
   "cell_type": "code",
   "execution_count": 12,
   "metadata": {},
   "outputs": [],
   "source": [
    "dat.to_csv(file_name, sep=\",\", index=False)\n",
    "del file_name"
   ]
  },
  {
   "cell_type": "code",
   "execution_count": 13,
   "metadata": {},
   "outputs": [
    {
     "name": "stdout",
     "output_type": "stream",
     "text": [
      "<class 'pandas.core.frame.DataFrame'>\n",
      "Int64Index: 99669 entries, 0 to 103097\n",
      "Data columns (total 4 columns):\n",
      " #   Column                        Non-Null Count  Dtype \n",
      "---  ------                        --------------  ----- \n",
      " 0   date                          99669 non-null  object\n",
      " 1   zodiac_sign_of_sighting_date  99669 non-null  object\n",
      " 2   state.1                       99669 non-null  object\n",
      " 3   county                        99669 non-null  object\n",
      "dtypes: object(4)\n",
      "memory usage: 3.8+ MB\n"
     ]
    }
   ],
   "source": [
    "dat.info()"
   ]
  }
 ],
 "metadata": {
  "kernelspec": {
   "display_name": "base",
   "language": "python",
   "name": "python3"
  },
  "language_info": {
   "codemirror_mode": {
    "name": "ipython",
    "version": 3
   },
   "file_extension": ".py",
   "mimetype": "text/x-python",
   "name": "python",
   "nbconvert_exporter": "python",
   "pygments_lexer": "ipython3",
   "version": "3.9.13"
  },
  "orig_nbformat": 4
 },
 "nbformat": 4,
 "nbformat_minor": 2
}
