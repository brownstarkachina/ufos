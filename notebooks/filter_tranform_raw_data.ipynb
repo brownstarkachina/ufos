{
 "cells": [
  {
   "attachments": {},
   "cell_type": "markdown",
   "id": "cf3a0c79",
   "metadata": {},
   "source": [
    "# Filter and transform raw data\n",
    "\n",
    "**_Objective:_** Take the raw data and perform some filtering and transformations to get it into a more usuable format for later work."
   ]
  },
  {
   "cell_type": "markdown",
   "id": "6e9db72d",
   "metadata": {},
   "source": [
    "## Required libraries"
   ]
  },
  {
   "cell_type": "code",
   "execution_count": 1,
   "id": "d67c6fe5",
   "metadata": {},
   "outputs": [],
   "source": [
    "from datetime import datetime\n",
    "import os\n",
    "import pandas as pd"
   ]
  },
  {
   "attachments": {},
   "cell_type": "markdown",
   "id": "a5511dae",
   "metadata": {},
   "source": [
    "## Required function"
   ]
  },
  {
   "cell_type": "code",
   "execution_count": 2,
   "id": "629e0566",
   "metadata": {},
   "outputs": [],
   "source": [
    "def zodiac_sign(day, month):\n",
    "    # Adapted from:\n",
    "    #     https://stackoverflow.com/questions/61537916/map-column-birthdates-in-python-pandas-df-to-astrology-signs\n",
    "    #\n",
    "    # PURPOSE\n",
    "    #     This function will receive a day and month as arguments and \n",
    "    #     then return the zodiac sign for the date.\n",
    "    #\n",
    "    # INPUTS\n",
    "    #     day   := The day of the month. Type should be numeric.\n",
    "    #     month := The full name of the month. Type should be a string and all \n",
    "    #              chars should be lowercase.\n",
    "    #\n",
    "    # OUTPUT\n",
    "    #     N/A.\n",
    "    #\n",
    "    # RETURNS\n",
    "    #     The zodiac sign of the date provided. Type will be a string.\n",
    "    if month == 'december': \n",
    "        return 'Sagittarius' if (day < 22) else 'Capricorn'\n",
    "    elif month == 'january': \n",
    "        return 'Capricorn' if (day < 20) else 'Aquarius'\n",
    "    elif month == 'february': \n",
    "        return 'Aquarius' if (day < 19) else 'Pisces'\n",
    "    elif month == 'march': \n",
    "        return 'Pisces' if (day < 21) else 'Aries'\n",
    "    elif month == 'april': \n",
    "        return 'Aries' if (day < 20) else 'Taurus'\n",
    "    elif month == 'may': \n",
    "        return 'Taurus' if (day < 21) else 'Gemini'\n",
    "    elif month == 'june': \n",
    "        return 'Gemini' if (day < 21) else 'Cancer'\n",
    "    elif month == 'july': \n",
    "        return 'Cancer' if (day < 23) else 'Leo'\n",
    "    elif month == 'august': \n",
    "        return 'Leo' if (day < 23) else 'Virgo'\n",
    "    elif month == 'september': \n",
    "        return 'Virgo' if (day < 23) else 'Libra'\n",
    "    elif month == 'october': \n",
    "        return 'Libra' if (day < 23) else 'Scorpio'\n",
    "    elif month == 'november': \n",
    "        return 'Scorpio' if (day < 22) else 'Sagittarius'"
   ]
  },
  {
   "cell_type": "markdown",
   "id": "a34ea63b",
   "metadata": {},
   "source": [
    "## Bring the data in"
   ]
  },
  {
   "cell_type": "code",
   "execution_count": 3,
   "id": "0f751094",
   "metadata": {},
   "outputs": [],
   "source": [
    "os.chdir(\"../data/raw/\")"
   ]
  },
  {
   "cell_type": "code",
   "execution_count": 4,
   "id": "9a79e9d3",
   "metadata": {},
   "outputs": [],
   "source": [
    "dat = pd.read_csv(\"nuforc_reports.csv\")"
   ]
  },
  {
   "cell_type": "code",
   "execution_count": 5,
   "id": "0b8d196f",
   "metadata": {},
   "outputs": [
    {
     "name": "stdout",
     "output_type": "stream",
     "text": [
      "<class 'pandas.core.frame.DataFrame'>\n",
      "RangeIndex: 141261 entries, 0 to 141260\n",
      "Data columns (total 13 columns):\n",
      " #   Column          Non-Null Count   Dtype  \n",
      "---  ------          --------------   -----  \n",
      " 0   summary         141189 non-null  object \n",
      " 1   country         140944 non-null  object \n",
      " 2   city            140783 non-null  object \n",
      " 3   state           131681 non-null  object \n",
      " 4   date_time       138601 non-null  object \n",
      " 5   shape           134962 non-null  object \n",
      " 6   duration        133645 non-null  object \n",
      " 7   stats           141261 non-null  object \n",
      " 8   report_link     141261 non-null  object \n",
      " 9   text            141227 non-null  object \n",
      " 10  posted          138601 non-null  object \n",
      " 11  city_latitude   115440 non-null  float64\n",
      " 12  city_longitude  115440 non-null  float64\n",
      "dtypes: float64(2), object(11)\n",
      "memory usage: 14.0+ MB\n"
     ]
    }
   ],
   "source": [
    "dat.info()"
   ]
  },
  {
   "attachments": {},
   "cell_type": "markdown",
   "id": "f2ff8d9b",
   "metadata": {},
   "source": [
    "## Remove features that will not be needed"
   ]
  },
  {
   "cell_type": "code",
   "execution_count": 6,
   "id": "75eddcb2",
   "metadata": {},
   "outputs": [],
   "source": [
    "dat = dat.drop([\"summary\",\n",
    "                \"city\",\n",
    "                \"stats\",\n",
    "                \"report_link\",\n",
    "                \"posted\",\n",
    "                \"duration\"], axis=1)"
   ]
  },
  {
   "cell_type": "markdown",
   "id": "c114f6d8",
   "metadata": {},
   "source": [
    "## Filter to only CONUS locations"
   ]
  },
  {
   "cell_type": "code",
   "execution_count": 7,
   "id": "c1c8b7ea",
   "metadata": {},
   "outputs": [],
   "source": [
    "dat = dat[dat[\"country\"] == \"USA\"]\n",
    "dat = dat.drop([\"country\"], axis=1)"
   ]
  },
  {
   "cell_type": "code",
   "execution_count": 8,
   "id": "d22fa458",
   "metadata": {},
   "outputs": [],
   "source": [
    "# While technically not a state, we will keep Washington, D.C. as DC\n",
    "state_list = [\"AL\", \"AZ\", \"AR\", \"CA\", \"CO\", \"CT\", \"DE\", \"DC\", \"FL\", \"GA\", \"ID\",\n",
    "              \"IL\", \"IN\", \"IA\", \"KS\", \"KY\", \"LA\", \"ME\", \"MD\", \"MA\", \"MI\", \"MN\", \n",
    "              \"MS\", \"MO\", \"MT\", \"NE\", \"NV\", \"NH\", \"NJ\", \"NM\", \"NY\", \"NC\", \"ND\", \n",
    "              \"OH\", \"OK\", \"OR\", \"PA\", \"RI\", \"SC\", \"SD\", \"TN\", \"TX\", \"UT\", \"VT\",\n",
    "              \"VA\", \"WA\", \"WV\", \"WI\", \"WY\"]"
   ]
  },
  {
   "cell_type": "code",
   "execution_count": 9,
   "id": "ed1ba974",
   "metadata": {},
   "outputs": [],
   "source": [
    "dat = dat[dat[\"state\"].isin(state_list)]\n",
    "del state_list"
   ]
  },
  {
   "cell_type": "markdown",
   "id": "a304071b",
   "metadata": {},
   "source": [
    "## Get rid of sightings that do not have a lattitude or longitude"
   ]
  },
  {
   "cell_type": "code",
   "execution_count": 10,
   "id": "1dd7b918",
   "metadata": {},
   "outputs": [],
   "source": [
    "dat = dat[dat[\"city_latitude\"].notna()]"
   ]
  },
  {
   "cell_type": "code",
   "execution_count": 11,
   "id": "bdccaeed",
   "metadata": {},
   "outputs": [],
   "source": [
    "dat = dat[dat[\"city_longitude\"].notna()]"
   ]
  },
  {
   "attachments": {},
   "cell_type": "markdown",
   "id": "4ebbbf16",
   "metadata": {},
   "source": [
    "## Fix the `shape` field"
   ]
  },
  {
   "cell_type": "code",
   "execution_count": 12,
   "id": "0ecbd25f",
   "metadata": {},
   "outputs": [
    {
     "data": {
      "text/plain": [
       "array([nan, 'light', 'circle', 'sphere', 'unknown', 'chevron', 'cigar',\n",
       "       'other', 'triangle', 'oval', 'teardrop', 'flash', 'rectangle',\n",
       "       'formation', 'disk', 'fireball', 'egg', 'changing', 'diamond',\n",
       "       'cone', 'cylinder', 'cross', 'delta', 'star'], dtype=object)"
      ]
     },
     "execution_count": 12,
     "metadata": {},
     "output_type": "execute_result"
    }
   ],
   "source": [
    "dat[\"shape\"].unique()"
   ]
  },
  {
   "attachments": {},
   "cell_type": "markdown",
   "id": "b1921c1c",
   "metadata": {},
   "source": [
    "From the above output we see that there are some missing values (`nan`) for the shape of the UFO and also a recording for `unknown` shapes. Here we will change those `nan`s to `unknown` and also title case all the shape recordings."
   ]
  },
  {
   "cell_type": "code",
   "execution_count": 13,
   "id": "9b21cf77",
   "metadata": {},
   "outputs": [],
   "source": [
    "shapes = []\n",
    "for shape in dat[\"shape\"]:\n",
    "    if type(shape) == float:\n",
    "        shapes.append(\"Unknown\")\n",
    "    else:\n",
    "        shapes.append(shape.title())\n",
    "dat[\"shape\"] = shapes\n",
    "del shape\n",
    "del shapes"
   ]
  },
  {
   "attachments": {},
   "cell_type": "markdown",
   "id": "c7b351ca",
   "metadata": {},
   "source": [
    "## Get rid of sightings that do not have a date recorded"
   ]
  },
  {
   "cell_type": "code",
   "execution_count": 14,
   "id": "00c57f0e",
   "metadata": {},
   "outputs": [],
   "source": [
    "dat = dat[dat[\"date_time\"].notna()]"
   ]
  },
  {
   "attachments": {},
   "cell_type": "markdown",
   "id": "c212671b",
   "metadata": {},
   "source": [
    "## Git rid of sightings that do not have any text describing the sighting"
   ]
  },
  {
   "cell_type": "code",
   "execution_count": 15,
   "id": "779f4831",
   "metadata": {},
   "outputs": [],
   "source": [
    "dat = dat[dat[\"text\"].notna()]"
   ]
  },
  {
   "attachments": {},
   "cell_type": "markdown",
   "id": "83a95cf1",
   "metadata": {},
   "source": [
    "## Extract the date, day of week, and weekend status from `date_time`"
   ]
  },
  {
   "cell_type": "code",
   "execution_count": 16,
   "id": "260ec8db",
   "metadata": {},
   "outputs": [],
   "source": [
    "dat[\"date\"] = pd.to_datetime(dat[\"date_time\"]).dt.date"
   ]
  },
  {
   "cell_type": "code",
   "execution_count": 17,
   "id": "29fb9f59",
   "metadata": {},
   "outputs": [],
   "source": [
    "dat[\"day_of_week\"] = pd.to_datetime(list(dat[\"date_time\"])).day_name()"
   ]
  },
  {
   "cell_type": "code",
   "execution_count": 18,
   "id": "5b33b528",
   "metadata": {},
   "outputs": [],
   "source": [
    "dat[\"weekend_flag\"] = [\"Yes\" if day in [\"Saturday\", \"Sunday\"] else \"No\" \n",
    "                       for day in dat[\"day_of_week\"]]"
   ]
  },
  {
   "attachments": {},
   "cell_type": "markdown",
   "id": "d9ecc63d",
   "metadata": {},
   "source": [
    "## Get the zodiac sign of the sighting date"
   ]
  },
  {
   "cell_type": "code",
   "execution_count": 19,
   "id": "49882c87",
   "metadata": {},
   "outputs": [],
   "source": [
    "dat[\"temp_date\"] = pd.to_datetime(dat[\"date\"])\n",
    "dat[\"zodiac_sign_of_sighting_date\"] = dat[\"temp_date\"].apply(lambda x: zodiac_sign(x.day, x.strftime(\"%B\").lower()))\n",
    "dat = dat.drop([\"temp_date\"], axis=1)"
   ]
  },
  {
   "attachments": {},
   "cell_type": "markdown",
   "id": "1a6fce6e",
   "metadata": {},
   "source": [
    "## Write the data frame to file"
   ]
  },
  {
   "cell_type": "code",
   "execution_count": 20,
   "id": "7e0bf497",
   "metadata": {},
   "outputs": [],
   "source": [
    "os.chdir(\"../interim/\")"
   ]
  },
  {
   "cell_type": "code",
   "execution_count": 21,
   "id": "c195649a",
   "metadata": {},
   "outputs": [],
   "source": [
    "file_name_root = \"interim_no_county_raw_ufo_data_\"\n",
    "date_time_str = datetime.today().strftime(\"%Y-%m-%d %H:%M\")\n",
    "date_str = date_time_str.split()[0].replace(\"-\", \"\") + \"_\"\n",
    "time_str = date_time_str.split()[1].replace(\":\", \"\")\n",
    "file_ext = '.csv'\n",
    "del date_time_str\n",
    "file_name = file_name_root + date_str + time_str + file_ext\n",
    "del file_name_root\n",
    "del date_str\n",
    "del time_str\n",
    "del file_ext\n"
   ]
  },
  {
   "cell_type": "code",
   "execution_count": 22,
   "id": "73a954da",
   "metadata": {},
   "outputs": [
    {
     "name": "stdout",
     "output_type": "stream",
     "text": [
      "interim_no_county_raw_ufo_data_20230429_2035.csv\n"
     ]
    }
   ],
   "source": [
    "print(file_name)"
   ]
  },
  {
   "cell_type": "code",
   "execution_count": 23,
   "id": "254f087d",
   "metadata": {},
   "outputs": [],
   "source": [
    "dat.to_csv(file_name, sep=\",\", index=False)\n",
    "del file_name"
   ]
  },
  {
   "cell_type": "code",
   "execution_count": 24,
   "id": "5466b307",
   "metadata": {},
   "outputs": [
    {
     "name": "stdout",
     "output_type": "stream",
     "text": [
      "<class 'pandas.core.frame.DataFrame'>\n",
      "Int64Index: 107980 entries, 0 to 141260\n",
      "Data columns (total 10 columns):\n",
      " #   Column                        Non-Null Count   Dtype  \n",
      "---  ------                        --------------   -----  \n",
      " 0   state                         107980 non-null  object \n",
      " 1   date_time                     107980 non-null  object \n",
      " 2   shape                         107980 non-null  object \n",
      " 3   text                          107980 non-null  object \n",
      " 4   city_latitude                 107980 non-null  float64\n",
      " 5   city_longitude                107980 non-null  float64\n",
      " 6   date                          107980 non-null  object \n",
      " 7   day_of_week                   107980 non-null  object \n",
      " 8   weekend_flag                  107980 non-null  object \n",
      " 9   zodiac_sign_of_sighting_date  107980 non-null  object \n",
      "dtypes: float64(2), object(8)\n",
      "memory usage: 9.1+ MB\n"
     ]
    }
   ],
   "source": [
    "dat.info()"
   ]
  }
 ],
 "metadata": {
  "kernelspec": {
   "display_name": "Python 3 (ipykernel)",
   "language": "python",
   "name": "python3"
  },
  "language_info": {
   "codemirror_mode": {
    "name": "ipython",
    "version": 3
   },
   "file_extension": ".py",
   "mimetype": "text/x-python",
   "name": "python",
   "nbconvert_exporter": "python",
   "pygments_lexer": "ipython3",
   "version": "3.9.13"
  }
 },
 "nbformat": 4,
 "nbformat_minor": 5
}
