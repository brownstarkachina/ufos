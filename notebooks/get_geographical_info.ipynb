{
 "cells": [
  {
   "cell_type": "markdown",
   "id": "7eb63a46",
   "metadata": {},
   "source": [
    "# Get geographical information from lat/long in data\n",
    "\n",
    "**_Objective:_** Using the lat/long values in the data, obtain the state and county names."
   ]
  },
  {
   "cell_type": "markdown",
   "id": "6ddafcd9",
   "metadata": {},
   "source": [
    "## Required libraries"
   ]
  },
  {
   "cell_type": "code",
   "execution_count": 1,
   "id": "5fe3d81f",
   "metadata": {
    "vscode": {
     "languageId": "r"
    }
   },
   "outputs": [
    {
     "name": "stderr",
     "output_type": "stream",
     "text": [
      "Warning message:\n",
      "\"package 'sp' was built under R version 3.6.3\"Warning message:\n",
      "\"package 'rgeos' was built under R version 3.6.3\"rgeos version: 0.5-5, (SVN revision 640)\n",
      " GEOS runtime version: 3.8.0-CAPI-1.13.1 \n",
      " Linking to sp version: 1.4-5 \n",
      " Polygon checking: TRUE \n",
      "\n",
      "Warning message:\n",
      "\"package 'maptools' was built under R version 3.6.3\"Checking rgeos availability: TRUE\n"
     ]
    }
   ],
   "source": [
    "library(sp)\n",
    "library(maps)\n",
    "library(rgeos)\n",
    "library(maptools)"
   ]
  },
  {
   "cell_type": "markdown",
   "id": "52fdb4e6",
   "metadata": {},
   "source": [
    "## Required function"
   ]
  },
  {
   "cell_type": "code",
   "execution_count": 2,
   "id": "4ed19000",
   "metadata": {
    "vscode": {
     "languageId": "r"
    }
   },
   "outputs": [],
   "source": [
    "latlong2county <- function(pointsDF) {\n",
    "    # Adapted from:\n",
    "    #     https://stackoverflow.com/questions/13316185/r-convert-zipcode-or-lat-long-to-county\n",
    "    # Prepare SpatialPolygons object with one SpatialPolygon\n",
    "    # per county\n",
    "    counties <- map('county', fill=TRUE, col=\"transparent\", plot=FALSE)\n",
    "    IDs <- sapply(strsplit(counties$names, \":\"), function(x) x[1])\n",
    "    counties_sp <- map2SpatialPolygons(counties, IDs=IDs,\n",
    "                     proj4string=CRS(\"+proj=longlat +datum=WGS84\"))\n",
    "\n",
    "    # Convert pointsDF to a SpatialPoints object \n",
    "    pointsSP <- SpatialPoints(pointsDF, \n",
    "                    proj4string=CRS(\"+proj=longlat +datum=WGS84\"))\n",
    "\n",
    "    # Use 'over' to get _indices_ of the Polygons object containing each point \n",
    "    indices <- over(pointsSP, counties_sp)\n",
    "\n",
    "    # Return the county names of the Polygons object containing each point\n",
    "    countyNames <- sapply(counties_sp@polygons, function(x) x@ID)\n",
    "    countyNames[indices]\n",
    "}"
   ]
  },
  {
   "cell_type": "markdown",
   "id": "7f5be3e8",
   "metadata": {},
   "source": [
    "## Bring the data in"
   ]
  },
  {
   "cell_type": "code",
   "execution_count": 3,
   "id": "4379cb22",
   "metadata": {
    "vscode": {
     "languageId": "r"
    }
   },
   "outputs": [],
   "source": [
    "setwd(\"../data/interim/\")"
   ]
  },
  {
   "cell_type": "code",
   "execution_count": 4,
   "id": "0631fffa",
   "metadata": {
    "vscode": {
     "languageId": "r"
    }
   },
   "outputs": [],
   "source": [
    "dat <- read.csv(\"interim_no_county_raw_ufo_data_20230429_2035.csv\")"
   ]
  },
  {
   "cell_type": "markdown",
   "id": "9fa8a95e",
   "metadata": {},
   "source": [
    "## Get the state and county names"
   ]
  },
  {
   "cell_type": "code",
   "execution_count": 5,
   "id": "4db301c3",
   "metadata": {
    "vscode": {
     "languageId": "r"
    }
   },
   "outputs": [
    {
     "name": "stdout",
     "output_type": "stream",
     "text": [
      "Time difference of 1.591171 hours\n"
     ]
    }
   ],
   "source": [
    "obs_points <-data.frame(long=dat$city_longitude, lat=dat$city_latitude)\n",
    "state_county <- latlong2county(obs_points)\n",
    "start_time <- Sys.time()\n",
    "num_elements <- length(state_county)\n",
    "state <- NULL\n",
    "county <- NULL\n",
    "for (i in 1:num_elements) {\n",
    "    if (grepl(\",\", state_county[i])) {\n",
    "        obs <- strsplit(state_county, split=\",\")[[i]]\n",
    "        state[i] <- obs[1]\n",
    "        county[i] <- obs[2]\n",
    "    } else {\n",
    "        state[i] <- \"NA\"\n",
    "        county[i] <- \"NA\"\n",
    "    }\n",
    "}\n",
    "print(Sys.time() - start_time)"
   ]
  },
  {
   "cell_type": "code",
   "execution_count": 6,
   "id": "3b92e944",
   "metadata": {
    "vscode": {
     "languageId": "r"
    }
   },
   "outputs": [],
   "source": [
    "dat <- cbind(dat, state, county)\n",
    "rm(state_county, start_time, num_elements, state, county, i, obs)"
   ]
  },
  {
   "cell_type": "markdown",
   "id": "c99f3461",
   "metadata": {
    "vscode": {
     "languageId": "r"
    }
   },
   "source": [
    "## Write the new dataframe to file"
   ]
  },
  {
   "cell_type": "code",
   "execution_count": 7,
   "id": "c45165e4",
   "metadata": {
    "vscode": {
     "languageId": "r"
    }
   },
   "outputs": [
    {
     "data": {
      "text/html": [
       "'interim_with_county_info_ufo_20230429_2214.csv'"
      ],
      "text/latex": [
       "'interim\\_with\\_county\\_info\\_ufo\\_20230429\\_2214.csv'"
      ],
      "text/markdown": [
       "'interim_with_county_info_ufo_20230429_2214.csv'"
      ],
      "text/plain": [
       "[1] \"interim_with_county_info_ufo_20230429_2214.csv\""
      ]
     },
     "metadata": {},
     "output_type": "display_data"
    }
   ],
   "source": [
    "file_name_root <- \"interim_with_county_info_ufo_\"\n",
    "date_time_vector <- strsplit(as.character(Sys.time()), \" \")\n",
    "date_clean <- gsub(\"-\", \"\", date_time_vector[[1]][1])\n",
    "time_clean <- substr(gsub(\":\", \"\", date_time_vector[[1]][2]), 1, 4)\n",
    "file_ext <- \".csv\"\n",
    "file_name <- paste(file_name_root, date_clean, \"_\", time_clean, file_ext, sep=\"\")\n",
    "file_name\n",
    "rm(file_name_root, date_time_vector, date_clean, time_clean, file_ext)"
   ]
  },
  {
   "cell_type": "code",
   "execution_count": 8,
   "id": "f0b1d365",
   "metadata": {
    "vscode": {
     "languageId": "r"
    }
   },
   "outputs": [],
   "source": [
    "write.csv(dat, file_name, row.names=FALSE)"
   ]
  }
 ],
 "metadata": {
  "kernelspec": {
   "display_name": "R",
   "language": "R",
   "name": "ir"
  },
  "language_info": {
   "codemirror_mode": "r",
   "file_extension": ".r",
   "mimetype": "text/x-r-source",
   "name": "R",
   "pygments_lexer": "r",
   "version": "3.6.1"
  }
 },
 "nbformat": 4,
 "nbformat_minor": 5
}
